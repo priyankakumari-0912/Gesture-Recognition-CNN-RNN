{
 "cells": [
  {
   "cell_type": "markdown",
   "metadata": {
    "id": "qay2WyG8GFhJ"
   },
   "source": [
    "# Gesture Recognition\n"
   ]
  },
  {
   "cell_type": "code",
   "execution_count": 8,
   "metadata": {
    "colab": {
     "base_uri": "https://localhost:8080/"
    },
    "id": "9bAR-GAMG3aR",
    "outputId": "f0d12091-e088-40a6-e7f9-ccc2536412e7"
   },
   "outputs": [
    {
     "name": "stdout",
     "output_type": "stream",
     "text": [
      "Requirement already satisfied: scipy in c:\\users\\itzmu\\anaconda3\\envs\\pygpu38\\lib\\site-packages (1.7.3)\n",
      "Requirement already satisfied: numpy<1.23.0,>=1.16.5 in c:\\users\\itzmu\\anaconda3\\envs\\pygpu38\\lib\\site-packages (from scipy) (1.22.1)\n"
     ]
    }
   ],
   "source": [
    "!pip install scipy"
   ]
  },
  {
   "cell_type": "code",
   "execution_count": 12,
   "metadata": {},
   "outputs": [
    {
     "name": "stdout",
     "output_type": "stream",
     "text": [
      "Collecting matplotlib\n",
      "  Downloading matplotlib-3.5.1-cp38-cp38-win_amd64.whl (7.2 MB)\n",
      "Collecting kiwisolver>=1.0.1\n",
      "  Downloading kiwisolver-1.3.2-cp38-cp38-win_amd64.whl (52 kB)\n",
      "Requirement already satisfied: numpy>=1.17 in c:\\users\\itzmu\\anaconda3\\envs\\pygpu38\\lib\\site-packages (from matplotlib) (1.22.1)\n",
      "Requirement already satisfied: python-dateutil>=2.7 in c:\\users\\itzmu\\anaconda3\\envs\\pygpu38\\lib\\site-packages (from matplotlib) (2.8.2)\n",
      "Collecting fonttools>=4.22.0\n",
      "  Downloading fonttools-4.28.5-py3-none-any.whl (890 kB)\n",
      "Requirement already satisfied: pyparsing>=2.2.1 in c:\\users\\itzmu\\anaconda3\\envs\\pygpu38\\lib\\site-packages (from matplotlib) (3.0.4)\n",
      "Requirement already satisfied: pillow>=6.2.0 in c:\\users\\itzmu\\anaconda3\\envs\\pygpu38\\lib\\site-packages (from matplotlib) (9.0.0)\n",
      "Requirement already satisfied: packaging>=20.0 in c:\\users\\itzmu\\anaconda3\\envs\\pygpu38\\lib\\site-packages (from matplotlib) (21.3)\n",
      "Collecting cycler>=0.10\n",
      "  Downloading cycler-0.11.0-py3-none-any.whl (6.4 kB)\n",
      "Requirement already satisfied: six>=1.5 in c:\\users\\itzmu\\anaconda3\\envs\\pygpu38\\lib\\site-packages (from python-dateutil>=2.7->matplotlib) (1.16.0)\n",
      "Installing collected packages: kiwisolver, fonttools, cycler, matplotlib\n",
      "Successfully installed cycler-0.11.0 fonttools-4.28.5 kiwisolver-1.3.2 matplotlib-3.5.1\n"
     ]
    }
   ],
   "source": [
    "!pip install matplotlib"
   ]
  },
  {
   "cell_type": "code",
   "execution_count": 10,
   "metadata": {
    "id": "5VWkKZAfGFhU"
   },
   "outputs": [],
   "source": [
    "import numpy as np\n",
    "import os\n",
    "from scipy import misc\n",
    "import datetime"
   ]
  },
  {
   "cell_type": "code",
   "execution_count": null,
   "metadata": {
    "colab": {
     "base_uri": "https://localhost:8080/"
    },
    "id": "gj_UF4dtGSL7",
    "outputId": "c2c750f5-6e6d-4ce3-ae48-d12cdc006aad"
   },
   "outputs": [],
   "source": [
    "#from google.colab import drive\n",
    "#drive.mount('/content/gdrive')"
   ]
  },
  {
   "cell_type": "code",
   "execution_count": 21,
   "metadata": {},
   "outputs": [],
   "source": [
    "import numpy as np\n",
    "import os\n",
    "import datetime\n",
    "\n",
    "def imread(path):\n",
    "    from PIL import Image\n",
    "    return np.array(Image.open(path))\n",
    "\n",
    "def imresize(img, size):\n",
    "    from PIL import Image\n",
    "    return np.array(Image.fromarray(img).resize(size))"
   ]
  },
  {
   "cell_type": "markdown",
   "metadata": {
    "id": "Bnfjmv1UGFhX"
   },
   "source": [
    "We set the random seed so that the results don't vary drastically."
   ]
  },
  {
   "cell_type": "code",
   "execution_count": 13,
   "metadata": {
    "id": "_hwxel9eGFhY"
   },
   "outputs": [],
   "source": [
    "np.random.seed(30)\n",
    "import random as rn\n",
    "rn.seed(30)\n",
    "from keras import backend as K\n",
    "import tensorflow as tf\n",
    "tf.random.set_seed(30)\n",
    "\n",
    "from keras.models import Sequential, Model\n",
    "from keras.layers import Dense, GRU, Flatten, TimeDistributed, Flatten, BatchNormalization, Activation, Dropout\n",
    "from keras.layers.convolutional import Conv3D, MaxPooling3D, Conv2D, MaxPooling2D\n",
    "from keras.layers.recurrent import LSTM\n",
    "from keras.callbacks import ModelCheckpoint, ReduceLROnPlateau\n",
    "from tensorflow.keras import optimizers\n",
    "import matplotlib.pyplot as plt\n",
    "from tensorflow.keras.applications import ResNet50"
   ]
  },
  {
   "cell_type": "markdown",
   "metadata": {
    "id": "YvF3ig8sGFha"
   },
   "source": [
    "In this block, you read the folder names for training and validation. You also set the `batch_size` here. Note that you set the batch size in such a way that you are able to use the GPU in full capacity. You keep increasing the batch size until the machine throws an error."
   ]
  },
  {
   "cell_type": "code",
   "execution_count": 14,
   "metadata": {
    "id": "x2NiWOBvGFhb"
   },
   "outputs": [],
   "source": [
    "train_doc = np.random.permutation(open('Project_data/train.csv').readlines())\n",
    "val_doc = np.random.permutation(open('Project_data/val.csv').readlines())\n",
    "batch_size = 20"
   ]
  },
  {
   "cell_type": "markdown",
   "metadata": {
    "id": "cqg2PZ4rGFhc"
   },
   "source": [
    "## Generator\n",
    "This is one of the most important part of the code. The overall structure of the generator has been given. In the generator, you are going to preprocess the images as you have images of 2 different dimensions as well as create a batch of video frames. You have to experiment with `img_idx`, `y`,`z` and normalization such that you get high accuracy."
   ]
  },
  {
   "cell_type": "code",
   "execution_count": 34,
   "metadata": {
    "id": "gJJTAR3jGFhe"
   },
   "outputs": [],
   "source": [
    "def generator(source_path, folder_list, batch_size):\n",
    "    print( 'Source path = ', source_path, '; batch size =', batch_size)\n",
    "    img_idx = [0,2,4,6,8,10,12,14,16,18,20,22,24,26,28]\n",
    "    while True:\n",
    "        t = np.random.permutation(folder_list)\n",
    "        num_batches = int(len(t)/batch_size)# calculate the number of batches\n",
    "        for batch in range(num_batches): # we iterate over the number of batches\n",
    "            batch_data = np.zeros((batch_size,15,120,120,3))\n",
    "            batch_labels = np.zeros((batch_size,5)) # batch_labels is the one hot representation of the output\n",
    "            for folder in range(batch_size): # iterate over the batch_size\n",
    "                imgs = os.listdir(source_path+'/'+ t[folder + (batch*batch_size)].split(';')[0]) # read all the images in the folder\n",
    "                for idx,item in enumerate(img_idx): #  Iterate iver the frames/images of a folder to read them in\n",
    "                    image = imread(source_path+'/'+ t[folder + (batch*batch_size)].strip().split(';')[0]+'/'+imgs[item]).astype(np.uint8)\n",
    "                    \n",
    "                    #crop the images and resize them. Note that the images are of 2 different shape \n",
    "                    #and the conv3D will throw error if the inputs in a batch have different shapes\n",
    "\n",
    "                    if image.shape[1] == 160:\n",
    "                        image = image[:,20:140,:].astype(np.float32)\n",
    "                    else:\n",
    "                        image = imresize(image,(120,120)).astype(np.float32)\n",
    "                    \n",
    "                    batch_data[folder,idx,:,:,0] = image[:,:,0] - 104\n",
    "                    batch_data[folder,idx,:,:,1] = image[:,:,1] - 117\n",
    "                    batch_data[folder,idx,:,:,2] = image[:,:,2] - 123\n",
    "                                        \n",
    "                batch_labels[folder, int(t[folder + (batch*batch_size)].strip().split(';')[2])] = 1\n",
    "            yield batch_data, batch_labels #you yield the batch_data and the batch_labels, remember what does yield do\n",
    "\n",
    "        \n",
    "        # write the code for the remaining data points which are left after full batches\n",
    "        if (len(t)%batch_size) != 0:\n",
    "            batch_data = np.zeros((len(t)%batch_size,15,120,120,3))\n",
    "            batch_labels = np.zeros((len(t)%batch_size,5))\n",
    "            for folder in range(len(t)%batch_size):\n",
    "                imgs = os.listdir(source_path+'/'+ t[folder + (num_batches*batch_size)].split(';')[0])\n",
    "                for idx,item in enumerate(img_idx):\n",
    "                    image = imread(source_path+'/'+ t[folder + (num_batches*batch_size)].strip().split(';')[0]+'/'+imgs[item]).astype(np.uint8)\n",
    "                    if image.shape[1] == 160:\n",
    "                        image = image[:,20:140,:].astype(np.float32)\n",
    "                    else:\n",
    "                        image = imresize(image,(120,120)).astype(np.float32)\n",
    "\n",
    "                    batch_data[folder,idx,:,:,0] = image[:,:,0] - 104\n",
    "                    batch_data[folder,idx,:,:,1] = image[:,:,1] - 117\n",
    "                    batch_data[folder,idx,:,:,2] = image[:,:,2] - 123\n",
    "\n",
    "                batch_labels[folder, int(t[folder + (num_batches*batch_size)].strip().split(';')[2])] = 1\n",
    "\n",
    "            yield batch_data, batch_labels\n"
   ]
  },
  {
   "cell_type": "markdown",
   "metadata": {
    "id": "VPVpmSvMGFhg"
   },
   "source": [
    "Note here that a video is represented above in the generator as (number of images, height, width, number of channels). Take this into consideration while creating the model architecture."
   ]
  },
  {
   "cell_type": "code",
   "execution_count": 35,
   "metadata": {
    "colab": {
     "base_uri": "https://localhost:8080/"
    },
    "id": "ZmHquAFrGFhi",
    "outputId": "996045fd-6d00-46fc-a70e-00d81ab8e36c"
   },
   "outputs": [
    {
     "name": "stdout",
     "output_type": "stream",
     "text": [
      "# training sequences = 663\n",
      "# validation sequences = 100\n",
      "# epochs = 20\n"
     ]
    }
   ],
   "source": [
    "curr_dt_time = datetime.datetime.now()\n",
    "train_path = 'Project_data/train'\n",
    "val_path = 'Project_data/val'\n",
    "num_train_sequences = len(train_doc)\n",
    "print('# training sequences =', num_train_sequences)\n",
    "num_val_sequences = len(val_doc)\n",
    "print('# validation sequences =', num_val_sequences)\n",
    "num_epochs = 20# choose the number of epochs\n",
    "print ('# epochs =', num_epochs)"
   ]
  },
  {
   "cell_type": "code",
   "execution_count": 36,
   "metadata": {
    "id": "_Hlj_NhLGFho"
   },
   "outputs": [],
   "source": [
    "train_generator = generator(train_path, train_doc, batch_size)\n",
    "val_generator = generator(val_path, val_doc, batch_size)"
   ]
  },
  {
   "cell_type": "code",
   "execution_count": 37,
   "metadata": {
    "id": "-8JOTcSzGFhr"
   },
   "outputs": [],
   "source": [
    "if (num_train_sequences%batch_size) == 0:\n",
    "    steps_per_epoch = int(num_train_sequences/batch_size)\n",
    "else:\n",
    "    steps_per_epoch = (num_train_sequences//batch_size) + 1\n",
    "\n",
    "if (num_val_sequences%batch_size) == 0:\n",
    "    validation_steps = int(num_val_sequences/batch_size)\n",
    "else:\n",
    "    validation_steps = (num_val_sequences//batch_size) + 1"
   ]
  },
  {
   "cell_type": "markdown",
   "metadata": {
    "id": "A1UPR6UIGFhj"
   },
   "source": [
    "## Model\n"
   ]
  },
  {
   "cell_type": "markdown",
   "metadata": {
    "id": "nr23FnhuCozV"
   },
   "source": [
    "## Conv3D model"
   ]
  },
  {
   "cell_type": "code",
   "execution_count": null,
   "metadata": {
    "colab": {
     "base_uri": "https://localhost:8080/"
    },
    "id": "fkqKSfmWCURf",
    "outputId": "a8d5b871-d178-458f-dbcb-ef39a3d4a4bf"
   },
   "outputs": [
    {
     "name": "stdout",
     "output_type": "stream",
     "text": [
      "Model: \"sequential_5\"\n",
      "_________________________________________________________________\n",
      " Layer (type)                Output Shape              Param #   \n",
      "=================================================================\n",
      " conv3d_4 (Conv3D)           (None, 15, 120, 120, 16)  1312      \n",
      "                                                                 \n",
      " activation_4 (Activation)   (None, 15, 120, 120, 16)  0         \n",
      "                                                                 \n",
      " batch_normalization_13 (Bat  (None, 15, 120, 120, 16)  64       \n",
      " chNormalization)                                                \n",
      "                                                                 \n",
      " max_pooling3d_4 (MaxPooling  (None, 7, 60, 60, 16)    0         \n",
      " 3D)                                                             \n",
      "                                                                 \n",
      " conv3d_5 (Conv3D)           (None, 7, 60, 60, 32)     4128      \n",
      "                                                                 \n",
      " activation_5 (Activation)   (None, 7, 60, 60, 32)     0         \n",
      "                                                                 \n",
      " batch_normalization_14 (Bat  (None, 7, 60, 60, 32)    128       \n",
      " chNormalization)                                                \n",
      "                                                                 \n",
      " max_pooling3d_5 (MaxPooling  (None, 3, 30, 30, 32)    0         \n",
      " 3D)                                                             \n",
      "                                                                 \n",
      " conv3d_6 (Conv3D)           (None, 3, 30, 30, 64)     16448     \n",
      "                                                                 \n",
      " activation_6 (Activation)   (None, 3, 30, 30, 64)     0         \n",
      "                                                                 \n",
      " batch_normalization_15 (Bat  (None, 3, 30, 30, 64)    256       \n",
      " chNormalization)                                                \n",
      "                                                                 \n",
      " max_pooling3d_6 (MaxPooling  (None, 1, 15, 15, 64)    0         \n",
      " 3D)                                                             \n",
      "                                                                 \n",
      " conv3d_7 (Conv3D)           (None, 1, 15, 15, 128)    65664     \n",
      "                                                                 \n",
      " activation_7 (Activation)   (None, 1, 15, 15, 128)    0         \n",
      "                                                                 \n",
      " batch_normalization_16 (Bat  (None, 1, 15, 15, 128)   512       \n",
      " chNormalization)                                                \n",
      "                                                                 \n",
      " flatten_2 (Flatten)         (None, 28800)             0         \n",
      "                                                                 \n",
      " dense_4 (Dense)             (None, 128)               3686528   \n",
      "                                                                 \n",
      " batch_normalization_17 (Bat  (None, 128)              512       \n",
      " chNormalization)                                                \n",
      "                                                                 \n",
      " dropout_4 (Dropout)         (None, 128)               0         \n",
      "                                                                 \n",
      " dense_5 (Dense)             (None, 64)                8256      \n",
      "                                                                 \n",
      " batch_normalization_18 (Bat  (None, 64)               256       \n",
      " chNormalization)                                                \n",
      "                                                                 \n",
      " dropout_5 (Dropout)         (None, 64)                0         \n",
      "                                                                 \n",
      " dense_6 (Dense)             (None, 5)                 325       \n",
      "                                                                 \n",
      "=================================================================\n",
      "Total params: 3,784,389\n",
      "Trainable params: 3,783,525\n",
      "Non-trainable params: 864\n",
      "_________________________________________________________________\n",
      "None\n",
      "WARNING:tensorflow:`period` argument is deprecated. Please use `save_freq` to specify the frequency in number of batches seen.\n",
      "WARNING:tensorflow:`epsilon` argument is deprecated and will be removed, use `min_delta` instead.\n"
     ]
    }
   ],
   "source": [
    "model2 = Sequential()\n",
    "model2.add(Conv3D(16, (3, 3, 3), padding='same', input_shape=(15,120,120,3)))\n",
    "model2.add(Activation('relu'))\n",
    "model2.add(BatchNormalization())\n",
    "model2.add(MaxPooling3D(pool_size=(2, 2, 2)))\n",
    "\n",
    "model2.add(Conv3D(32, (2, 2, 2), padding='same'))\n",
    "model2.add(Activation('relu'))\n",
    "model2.add(BatchNormalization())\n",
    "model2.add(MaxPooling3D(pool_size=(2, 2, 2)))\n",
    "\n",
    "model2.add(Conv3D(64, (2, 2, 2), padding='same'))\n",
    "model2.add(Activation('relu'))\n",
    "model2.add(BatchNormalization())\n",
    "model2.add(MaxPooling3D(pool_size=(2, 2, 2)))\n",
    "\n",
    "model2.add(Conv3D(128, (2, 2, 2), padding='same'))\n",
    "model2.add(Activation('relu'))\n",
    "model2.add(BatchNormalization())\n",
    "#model2.add(MaxPooling3D(pool_size=(2, 2, 2)))\n",
    "\n",
    "model2.add(Flatten())\n",
    "model2.add(Dense(128,activation='relu'))\n",
    "model2.add(BatchNormalization())\n",
    "model2.add(Dropout(0.25))\n",
    "\n",
    "model2.add(Dense(64,activation='relu'))\n",
    "model2.add(BatchNormalization())\n",
    "model2.add(Dropout(0.25))\n",
    "\n",
    "model2.add(Dense(5,activation='softmax'))\n",
    "\n",
    "optimiser = optimizers.Adam()\n",
    "model2.compile(optimizer=optimiser, loss='categorical_crossentropy', metrics=['categorical_accuracy'])\n",
    "\n",
    "print (model2.summary())\n",
    "\n",
    "model_name = 'model_init' + '_' + str(curr_dt_time).replace(' ','').replace(':','_') + '/'\n",
    "\n",
    "        \n",
    "filepath = '/content/gdrive/My Drive/DL Notebooks/Gesture Recognition Data/'+ model_name + 'model2-{epoch:05d}-{loss:.5f}-{categorical_accuracy:.5f}-{val_loss:.5f}-{val_categorical_accuracy:.5f}.h5'\n",
    "\n",
    "checkpoint = ModelCheckpoint(filepath, monitor='val_loss', verbose=1, save_best_only=False, save_weights_only=False, mode='auto', period=1)\n",
    "\n",
    "LR = ReduceLROnPlateau(monitor='val_loss', factor=0.5, patience=2, verbose=1, mode='min', epsilon=0.0001, cooldown=0, min_lr=0.00001) # write the REducelronplateau code here\n",
    "callbacks_list = [checkpoint, LR]\n"
   ]
  },
  {
   "cell_type": "code",
   "execution_count": null,
   "metadata": {
    "colab": {
     "base_uri": "https://localhost:8080/"
    },
    "id": "RiLAGk94Cu1t",
    "outputId": "f4b910f7-7eb1-4ca4-cc78-0fd6e74d1b16"
   },
   "outputs": [
    {
     "name": "stderr",
     "output_type": "stream",
     "text": [
      "/usr/local/lib/python3.7/dist-packages/ipykernel_launcher.py:3: UserWarning: `Model.fit_generator` is deprecated and will be removed in a future version. Please use `Model.fit`, which supports generators.\n",
      "  This is separate from the ipykernel package so we can avoid doing imports until\n",
      "/usr/local/lib/python3.7/dist-packages/ipykernel_launcher.py:13: DeprecationWarning:     `imread` is deprecated!\n",
      "    `imread` is deprecated in SciPy 1.0.0, and will be removed in 1.2.0.\n",
      "    Use ``imageio.imread`` instead.\n",
      "  del sys.path[0]\n",
      "/usr/local/lib/python3.7/dist-packages/ipykernel_launcher.py:21: DeprecationWarning:     `imresize` is deprecated!\n",
      "    `imresize` is deprecated in SciPy 1.0.0, and will be removed in 1.3.0.\n",
      "    Use Pillow instead: ``numpy.array(Image.fromarray(arr).resize())``.\n"
     ]
    },
    {
     "name": "stdout",
     "output_type": "stream",
     "text": [
      "Epoch 1/20\n",
      "30/34 [=========================>....] - ETA: 7s - loss: 1.4781 - categorical_accuracy: 0.4483"
     ]
    },
    {
     "name": "stderr",
     "output_type": "stream",
     "text": [
      "/usr/local/lib/python3.7/dist-packages/ipykernel_launcher.py:38: DeprecationWarning:     `imread` is deprecated!\n",
      "    `imread` is deprecated in SciPy 1.0.0, and will be removed in 1.2.0.\n",
      "    Use ``imageio.imread`` instead.\n"
     ]
    },
    {
     "name": "stdout",
     "output_type": "stream",
     "text": [
      "34/34 [==============================] - ETA: 0s - loss: 1.4301 - categorical_accuracy: 0.4630\n",
      "Epoch 00001: saving model to model_init_2022-01-1710_28_36.621133/model2-00001-1.43009-0.46305-7.50190-0.23000.h5\n",
      "34/34 [==============================] - 74s 2s/step - loss: 1.4301 - categorical_accuracy: 0.4630 - val_loss: 7.5019 - val_categorical_accuracy: 0.2300 - lr: 0.0010\n",
      "Epoch 2/20\n",
      "31/34 [==========================>...] - ETA: 5s - loss: 0.9442 - categorical_accuracy: 0.6484"
     ]
    },
    {
     "name": "stderr",
     "output_type": "stream",
     "text": [
      "/usr/local/lib/python3.7/dist-packages/ipykernel_launcher.py:42: DeprecationWarning:     `imresize` is deprecated!\n",
      "    `imresize` is deprecated in SciPy 1.0.0, and will be removed in 1.3.0.\n",
      "    Use Pillow instead: ``numpy.array(Image.fromarray(arr).resize())``.\n"
     ]
    },
    {
     "name": "stdout",
     "output_type": "stream",
     "text": [
      "34/34 [==============================] - ETA: 0s - loss: 0.9395 - categorical_accuracy: 0.6486\n",
      "Epoch 00002: saving model to model_init_2022-01-1710_28_36.621133/model2-00002-0.93948-0.64857-5.27808-0.26000.h5\n",
      "34/34 [==============================] - 72s 2s/step - loss: 0.9395 - categorical_accuracy: 0.6486 - val_loss: 5.2781 - val_categorical_accuracy: 0.2600 - lr: 0.0010\n",
      "Epoch 3/20\n",
      "34/34 [==============================] - ETA: 0s - loss: 0.7646 - categorical_accuracy: 0.7240\n",
      "Epoch 00003: saving model to model_init_2022-01-1710_28_36.621133/model2-00003-0.76463-0.72398-2.75078-0.34000.h5\n",
      "34/34 [==============================] - 80s 2s/step - loss: 0.7646 - categorical_accuracy: 0.7240 - val_loss: 2.7508 - val_categorical_accuracy: 0.3400 - lr: 0.0010\n",
      "Epoch 4/20\n",
      "34/34 [==============================] - ETA: 0s - loss: 0.5489 - categorical_accuracy: 0.7979\n",
      "Epoch 00004: saving model to model_init_2022-01-1710_28_36.621133/model2-00004-0.54889-0.79789-2.31277-0.43000.h5\n",
      "34/34 [==============================] - 69s 2s/step - loss: 0.5489 - categorical_accuracy: 0.7979 - val_loss: 2.3128 - val_categorical_accuracy: 0.4300 - lr: 0.0010\n",
      "Epoch 5/20\n",
      "34/34 [==============================] - ETA: 0s - loss: 0.5071 - categorical_accuracy: 0.8235\n",
      "Epoch 00005: saving model to model_init_2022-01-1710_28_36.621133/model2-00005-0.50709-0.82353-1.51451-0.54000.h5\n",
      "34/34 [==============================] - 79s 2s/step - loss: 0.5071 - categorical_accuracy: 0.8235 - val_loss: 1.5145 - val_categorical_accuracy: 0.5400 - lr: 0.0010\n",
      "Epoch 6/20\n",
      "34/34 [==============================] - ETA: 0s - loss: 0.4184 - categorical_accuracy: 0.8386\n",
      "Epoch 00006: saving model to model_init_2022-01-1710_28_36.621133/model2-00006-0.41842-0.83861-1.05465-0.65000.h5\n",
      "34/34 [==============================] - 72s 2s/step - loss: 0.4184 - categorical_accuracy: 0.8386 - val_loss: 1.0546 - val_categorical_accuracy: 0.6500 - lr: 0.0010\n",
      "Epoch 7/20\n",
      "34/34 [==============================] - ETA: 0s - loss: 0.2914 - categorical_accuracy: 0.8974\n",
      "Epoch 00007: saving model to model_init_2022-01-1710_28_36.621133/model2-00007-0.29135-0.89744-0.80665-0.74000.h5\n",
      "34/34 [==============================] - 70s 2s/step - loss: 0.2914 - categorical_accuracy: 0.8974 - val_loss: 0.8067 - val_categorical_accuracy: 0.7400 - lr: 0.0010\n",
      "Epoch 8/20\n",
      "34/34 [==============================] - ETA: 0s - loss: 0.2074 - categorical_accuracy: 0.9457\n",
      "Epoch 00008: saving model to model_init_2022-01-1710_28_36.621133/model2-00008-0.20737-0.94570-1.09110-0.69000.h5\n",
      "34/34 [==============================] - 70s 2s/step - loss: 0.2074 - categorical_accuracy: 0.9457 - val_loss: 1.0911 - val_categorical_accuracy: 0.6900 - lr: 0.0010\n",
      "Epoch 9/20\n",
      "34/34 [==============================] - ETA: 0s - loss: 0.1968 - categorical_accuracy: 0.9291\n",
      "Epoch 00009: saving model to model_init_2022-01-1710_28_36.621133/model2-00009-0.19677-0.92911-0.43692-0.85000.h5\n",
      "34/34 [==============================] - 72s 2s/step - loss: 0.1968 - categorical_accuracy: 0.9291 - val_loss: 0.4369 - val_categorical_accuracy: 0.8500 - lr: 0.0010\n",
      "Epoch 10/20\n",
      "34/34 [==============================] - ETA: 0s - loss: 0.2350 - categorical_accuracy: 0.9201\n",
      "Epoch 00010: saving model to model_init_2022-01-1710_28_36.621133/model2-00010-0.23498-0.92006-1.34434-0.59000.h5\n",
      "34/34 [==============================] - 73s 2s/step - loss: 0.2350 - categorical_accuracy: 0.9201 - val_loss: 1.3443 - val_categorical_accuracy: 0.5900 - lr: 0.0010\n",
      "Epoch 11/20\n",
      "34/34 [==============================] - ETA: 0s - loss: 0.1705 - categorical_accuracy: 0.9472\n",
      "Epoch 00011: saving model to model_init_2022-01-1710_28_36.621133/model2-00011-0.17049-0.94721-0.88503-0.70000.h5\n",
      "\n",
      "Epoch 00011: ReduceLROnPlateau reducing learning rate to 0.0005000000237487257.\n",
      "34/34 [==============================] - 81s 2s/step - loss: 0.1705 - categorical_accuracy: 0.9472 - val_loss: 0.8850 - val_categorical_accuracy: 0.7000 - lr: 0.0010\n",
      "Epoch 12/20\n",
      "34/34 [==============================] - ETA: 0s - loss: 0.1529 - categorical_accuracy: 0.9502\n",
      "Epoch 00012: saving model to model_init_2022-01-1710_28_36.621133/model2-00012-0.15291-0.95023-0.67497-0.81000.h5\n",
      "34/34 [==============================] - 79s 2s/step - loss: 0.1529 - categorical_accuracy: 0.9502 - val_loss: 0.6750 - val_categorical_accuracy: 0.8100 - lr: 5.0000e-04\n",
      "Epoch 13/20\n",
      "34/34 [==============================] - ETA: 0s - loss: 0.1084 - categorical_accuracy: 0.9713\n",
      "Epoch 00013: saving model to model_init_2022-01-1710_28_36.621133/model2-00013-0.10843-0.97134-0.69532-0.81000.h5\n",
      "\n",
      "Epoch 00013: ReduceLROnPlateau reducing learning rate to 0.0002500000118743628.\n",
      "34/34 [==============================] - 72s 2s/step - loss: 0.1084 - categorical_accuracy: 0.9713 - val_loss: 0.6953 - val_categorical_accuracy: 0.8100 - lr: 5.0000e-04\n",
      "Epoch 14/20\n",
      "34/34 [==============================] - ETA: 0s - loss: 0.0942 - categorical_accuracy: 0.9744\n",
      "Epoch 00014: saving model to model_init_2022-01-1710_28_36.621133/model2-00014-0.09423-0.97436-0.74895-0.76000.h5\n",
      "34/34 [==============================] - 80s 2s/step - loss: 0.0942 - categorical_accuracy: 0.9744 - val_loss: 0.7489 - val_categorical_accuracy: 0.7600 - lr: 2.5000e-04\n",
      "Epoch 15/20\n",
      "34/34 [==============================] - ETA: 0s - loss: 0.1101 - categorical_accuracy: 0.9683\n",
      "Epoch 00015: saving model to model_init_2022-01-1710_28_36.621133/model2-00015-0.11015-0.96833-0.58635-0.85000.h5\n",
      "\n",
      "Epoch 00015: ReduceLROnPlateau reducing learning rate to 0.0001250000059371814.\n",
      "34/34 [==============================] - 71s 2s/step - loss: 0.1101 - categorical_accuracy: 0.9683 - val_loss: 0.5864 - val_categorical_accuracy: 0.8500 - lr: 2.5000e-04\n",
      "Epoch 16/20\n",
      "34/34 [==============================] - ETA: 0s - loss: 0.0707 - categorical_accuracy: 0.9879\n",
      "Epoch 00016: saving model to model_init_2022-01-1710_28_36.621133/model2-00016-0.07072-0.98793-0.58982-0.82000.h5\n",
      "34/34 [==============================] - 71s 2s/step - loss: 0.0707 - categorical_accuracy: 0.9879 - val_loss: 0.5898 - val_categorical_accuracy: 0.8200 - lr: 1.2500e-04\n",
      "Epoch 17/20\n",
      "34/34 [==============================] - ETA: 0s - loss: 0.0820 - categorical_accuracy: 0.9879\n",
      "Epoch 00017: saving model to model_init_2022-01-1710_28_36.621133/model2-00017-0.08196-0.98793-0.67691-0.83000.h5\n",
      "\n",
      "Epoch 00017: ReduceLROnPlateau reducing learning rate to 6.25000029685907e-05.\n",
      "34/34 [==============================] - 80s 2s/step - loss: 0.0820 - categorical_accuracy: 0.9879 - val_loss: 0.6769 - val_categorical_accuracy: 0.8300 - lr: 1.2500e-04\n",
      "Epoch 18/20\n",
      "34/34 [==============================] - ETA: 0s - loss: 0.0585 - categorical_accuracy: 0.9864\n",
      "Epoch 00018: saving model to model_init_2022-01-1710_28_36.621133/model2-00018-0.05845-0.98643-0.50480-0.85000.h5\n",
      "34/34 [==============================] - 69s 2s/step - loss: 0.0585 - categorical_accuracy: 0.9864 - val_loss: 0.5048 - val_categorical_accuracy: 0.8500 - lr: 6.2500e-05\n",
      "Epoch 19/20\n",
      "34/34 [==============================] - ETA: 0s - loss: 0.0518 - categorical_accuracy: 0.9925\n",
      "Epoch 00019: saving model to model_init_2022-01-1710_28_36.621133/model2-00019-0.05184-0.99246-0.59715-0.82000.h5\n",
      "\n",
      "Epoch 00019: ReduceLROnPlateau reducing learning rate to 3.125000148429535e-05.\n",
      "34/34 [==============================] - 74s 2s/step - loss: 0.0518 - categorical_accuracy: 0.9925 - val_loss: 0.5971 - val_categorical_accuracy: 0.8200 - lr: 6.2500e-05\n",
      "Epoch 20/20\n",
      "34/34 [==============================] - ETA: 0s - loss: 0.0600 - categorical_accuracy: 0.9864\n",
      "Epoch 00020: saving model to model_init_2022-01-1710_28_36.621133/model2-00020-0.06002-0.98643-0.52953-0.87000.h5\n",
      "34/34 [==============================] - 74s 2s/step - loss: 0.0600 - categorical_accuracy: 0.9864 - val_loss: 0.5295 - val_categorical_accuracy: 0.8700 - lr: 3.1250e-05\n"
     ]
    }
   ],
   "source": [
    "history2 = model2.fit_generator(train_generator, steps_per_epoch=steps_per_epoch, epochs=20, verbose=1, \n",
    "                    callbacks=callbacks_list, validation_data=val_generator, \n",
    "                    validation_steps=validation_steps, class_weight=None, workers=1, initial_epoch=0)"
   ]
  },
  {
   "cell_type": "code",
   "execution_count": null,
   "metadata": {
    "colab": {
     "base_uri": "https://localhost:8080/",
     "height": 499
    },
    "id": "S16rzh4oGpd6",
    "outputId": "12ec69b4-45c3-4635-d17d-e148745e4251"
   },
   "outputs": [
    {
     "data": {
      "image/png": "[encoded data removed]",
      "text/plain": [
       "<Figure size 576x576 with 2 Axes>"
      ]
     },
     "metadata": {
      "needs_background": "light"
     },
     "output_type": "display_data"
    }
   ],
   "source": [
    "acc = history2.history['categorical_accuracy']\n",
    "val_acc = history2.history['val_categorical_accuracy']\n",
    "\n",
    "loss = history2.history['loss']\n",
    "val_loss = history2.history['val_loss']\n",
    "\n",
    "epochs_range = range(20)\n",
    "\n",
    "plt.figure(figsize=(8, 8))\n",
    "plt.subplot(1, 2, 1)\n",
    "plt.plot(epochs_range, acc, label='Training Accuracy')\n",
    "plt.plot(epochs_range, val_acc, label='Validation Accuracy')\n",
    "plt.legend(loc='lower right')\n",
    "plt.title('Training and Validation Accuracy')\n",
    "\n",
    "plt.subplot(1, 2, 2)\n",
    "plt.plot(epochs_range, loss, label='Training Loss')\n",
    "plt.plot(epochs_range, val_loss, label='Validation Loss')\n",
    "plt.legend(loc='upper right')\n",
    "plt.title('Training and Validation Loss')\n",
    "plt.show()"
   ]
  },
  {
   "cell_type": "markdown",
   "metadata": {
    "id": "KpezEUdFK0sv"
   },
   "source": [
    "### This model looks better than earlier models with training accuracy 98% and validation accuracy as 87%.\n"
   ]
  },
  {
   "cell_type": "markdown",
   "metadata": {
    "id": "scclSm_gAMJq"
   },
   "source": [
    "## Transfer Learning - Using resnet50 without training weights"
   ]
  },
  {
   "cell_type": "code",
   "execution_count": 40,
   "metadata": {
    "colab": {
     "base_uri": "https://localhost:8080/"
    },
    "id": "FVWQFFAfALjj",
    "outputId": "bd6b40b3-6d79-4a50-d6aa-2ee2c1f10108"
   },
   "outputs": [
    {
     "name": "stdout",
     "output_type": "stream",
     "text": [
      "Model: \"sequential_4\"\n",
      "_________________________________________________________________\n",
      " Layer (type)                Output Shape              Param #   \n",
      "=================================================================\n",
      " time_distributed_16 (TimeDi  (None, 15, 4, 4, 2048)   23587712  \n",
      " stributed)                                                      \n",
      "                                                                 \n",
      " time_distributed_17 (TimeDi  (None, 15, 4, 4, 2048)   8192      \n",
      " stributed)                                                      \n",
      "                                                                 \n",
      " time_distributed_18 (TimeDi  (None, 15, 2, 2, 2048)   0         \n",
      " stributed)                                                      \n",
      "                                                                 \n",
      " time_distributed_19 (TimeDi  (None, 15, 8192)         0         \n",
      " stributed)                                                      \n",
      "                                                                 \n",
      " lstm_4 (LSTM)               (None, 64)                2113792   \n",
      "                                                                 \n",
      " dropout_8 (Dropout)         (None, 64)                0         \n",
      "                                                                 \n",
      " dense_8 (Dense)             (None, 64)                4160      \n",
      "                                                                 \n",
      " dropout_9 (Dropout)         (None, 64)                0         \n",
      "                                                                 \n",
      " dense_9 (Dense)             (None, 5)                 325       \n",
      "                                                                 \n",
      "=================================================================\n",
      "Total params: 25,714,181\n",
      "Trainable params: 2,122,373\n",
      "Non-trainable params: 23,591,808\n",
      "_________________________________________________________________\n",
      "None\n",
      "WARNING:tensorflow:`period` argument is deprecated. Please use `save_freq` to specify the frequency in number of batches seen.\n",
      "WARNING:tensorflow:`epsilon` argument is deprecated and will be removed, use `min_delta` instead.\n"
     ]
    }
   ],
   "source": [
    "from keras.models import Sequential, Model\n",
    "from keras.layers import Dense, GRU, Dropout, Flatten, TimeDistributed\n",
    "from keras.callbacks import ModelCheckpoint, ReduceLROnPlateau\n",
    "from keras.layers.recurrent import LSTM\n",
    "from tensorflow.keras import optimizers\n",
    "from tensorflow.keras.applications import ResNet50\n",
    "    \n",
    "base_model = ResNet50(include_top=False, weights='imagenet')\n",
    "        \n",
    "model5 = Sequential()\n",
    "model5.add(TimeDistributed(base_model, input_shape=(15,120,120,3)))\n",
    "for layer in base_model.layers:\n",
    "    layer.trainable = False\n",
    "    \n",
    "model5.add(TimeDistributed(BatchNormalization()))\n",
    "model5.add(TimeDistributed(MaxPooling2D((2, 2))))\n",
    "model5.add(TimeDistributed(Flatten()))\n",
    "\n",
    "model5.add(LSTM(64))\n",
    "model5.add(Dropout(0.25))\n",
    "        \n",
    "model5.add(Dense(64,activation='relu'))\n",
    "model5.add(Dropout(0.25))\n",
    "model5.add(Dense(5, activation='softmax'))\n",
    "        \n",
    "optimiser = optimizers.Adam()\n",
    "model5.compile(optimizer=optimiser, loss='categorical_crossentropy', metrics=['categorical_accuracy'])\n",
    "\n",
    "print (model5.summary())\n",
    "\n",
    "model_name = 'model_init' + '_' + str(curr_dt_time).replace(' ','').replace(':','_') + '/'\n",
    "    \n",
    "        \n",
    "filepath = model_name + 'model5-{epoch:05d}-{loss:.5f}-{categorical_accuracy:.5f}-{val_loss:.5f}-{val_categorical_accuracy:.5f}.h5'\n",
    "\n",
    "checkpoint = ModelCheckpoint(filepath, monitor='val_loss', verbose=1, save_best_only=False, save_weights_only=False, mode='auto', period=1)\n",
    "\n",
    "LR = ReduceLROnPlateau(monitor='val_loss', factor=0.5, patience=2, verbose=1, mode='min', epsilon=0.0001, cooldown=0, min_lr=0.00001) # write the REducelronplateau code here\n",
    "callbacks_list = [checkpoint, LR]"
   ]
  },
  {
   "cell_type": "code",
   "execution_count": 41,
   "metadata": {
    "colab": {
     "base_uri": "https://localhost:8080/"
    },
    "id": "4yOWk0BXEcb3",
    "outputId": "64c537fb-fe4a-4ce1-a20a-b74ab8fc94fd"
   },
   "outputs": [
    {
     "name": "stderr",
     "output_type": "stream",
     "text": [
      "C:\\Users\\itzmu\\AppData\\Local\\Temp/ipykernel_18012/2558664409.py:1: UserWarning: `Model.fit_generator` is deprecated and will be removed in a future version. Please use `Model.fit`, which supports generators.\n",
      "  history5 = model5.fit_generator(train_generator, steps_per_epoch=steps_per_epoch, epochs=20, verbose=1,\n"
     ]
    },
    {
     "name": "stdout",
     "output_type": "stream",
     "text": [
      "Epoch 1/20\n",
      "34/34 [==============================] - ETA: 0s - loss: 1.3578 - categorical_accuracy: 0.4434\n",
      "Epoch 00001: saving model to model_init_2022-01-1914_52_50.134304\\model5-00001-1.35780-0.44344-1.03678-0.71000.h5\n",
      "34/34 [==============================] - 40s 1s/step - loss: 1.3578 - categorical_accuracy: 0.4434 - val_loss: 1.0368 - val_categorical_accuracy: 0.7100 - lr: 0.0010\n",
      "Epoch 2/20\n",
      "34/34 [==============================] - ETA: 0s - loss: 0.9132 - categorical_accuracy: 0.7029\n",
      "Epoch 00002: saving model to model_init_2022-01-1914_52_50.134304\\model5-00002-0.91318-0.70287-0.64316-0.86000.h5\n",
      "34/34 [==============================] - 35s 1s/step - loss: 0.9132 - categorical_accuracy: 0.7029 - val_loss: 0.6432 - val_categorical_accuracy: 0.8600 - lr: 0.0010\n",
      "Epoch 3/20\n",
      "34/34 [==============================] - ETA: 0s - loss: 0.5871 - categorical_accuracy: 0.8371\n",
      "Epoch 00003: saving model to model_init_2022-01-1914_52_50.134304\\model5-00003-0.58713-0.83710-0.35436-0.95000.h5\n",
      "34/34 [==============================] - 35s 1s/step - loss: 0.5871 - categorical_accuracy: 0.8371 - val_loss: 0.3544 - val_categorical_accuracy: 0.9500 - lr: 0.0010\n",
      "Epoch 4/20\n",
      "34/34 [==============================] - ETA: 0s - loss: 0.4210 - categorical_accuracy: 0.8748\n",
      "Epoch 00004: saving model to model_init_2022-01-1914_52_50.134304\\model5-00004-0.42095-0.87481-0.28393-0.93000.h5\n",
      "34/34 [==============================] - 36s 1s/step - loss: 0.4210 - categorical_accuracy: 0.8748 - val_loss: 0.2839 - val_categorical_accuracy: 0.9300 - lr: 0.0010\n",
      "Epoch 5/20\n",
      "34/34 [==============================] - ETA: 0s - loss: 0.3094 - categorical_accuracy: 0.9186\n",
      "Epoch 00005: saving model to model_init_2022-01-1914_52_50.134304\\model5-00005-0.30944-0.91855-0.27950-0.91000.h5\n",
      "34/34 [==============================] - 36s 1s/step - loss: 0.3094 - categorical_accuracy: 0.9186 - val_loss: 0.2795 - val_categorical_accuracy: 0.9100 - lr: 0.0010\n",
      "Epoch 6/20\n",
      "34/34 [==============================] - ETA: 0s - loss: 0.2135 - categorical_accuracy: 0.9427\n",
      "Epoch 00006: saving model to model_init_2022-01-1914_52_50.134304\\model5-00006-0.21349-0.94268-0.29960-0.89000.h5\n",
      "34/34 [==============================] - 36s 1s/step - loss: 0.2135 - categorical_accuracy: 0.9427 - val_loss: 0.2996 - val_categorical_accuracy: 0.8900 - lr: 0.0010\n",
      "Epoch 7/20\n",
      "34/34 [==============================] - ETA: 0s - loss: 0.1693 - categorical_accuracy: 0.9563\n",
      "Epoch 00007: saving model to model_init_2022-01-1914_52_50.134304\\model5-00007-0.16928-0.95626-0.19135-0.95000.h5\n",
      "34/34 [==============================] - 36s 1s/step - loss: 0.1693 - categorical_accuracy: 0.9563 - val_loss: 0.1914 - val_categorical_accuracy: 0.9500 - lr: 0.0010\n",
      "Epoch 8/20\n",
      "34/34 [==============================] - ETA: 0s - loss: 0.1349 - categorical_accuracy: 0.9698\n",
      "Epoch 00008: saving model to model_init_2022-01-1914_52_50.134304\\model5-00008-0.13494-0.96983-0.16123-0.93000.h5\n",
      "34/34 [==============================] - 36s 1s/step - loss: 0.1349 - categorical_accuracy: 0.9698 - val_loss: 0.1612 - val_categorical_accuracy: 0.9300 - lr: 0.0010\n",
      "Epoch 9/20\n",
      "34/34 [==============================] - ETA: 0s - loss: 0.1368 - categorical_accuracy: 0.9668\n",
      "Epoch 00009: saving model to model_init_2022-01-1914_52_50.134304\\model5-00009-0.13679-0.96682-0.17449-0.94000.h5\n",
      "34/34 [==============================] - 36s 1s/step - loss: 0.1368 - categorical_accuracy: 0.9668 - val_loss: 0.1745 - val_categorical_accuracy: 0.9400 - lr: 0.0010\n",
      "Epoch 10/20\n",
      "34/34 [==============================] - ETA: 0s - loss: 0.1115 - categorical_accuracy: 0.9744\n",
      "Epoch 00010: saving model to model_init_2022-01-1914_52_50.134304\\model5-00010-0.11149-0.97436-0.27559-0.87000.h5\n",
      "\n",
      "Epoch 00010: ReduceLROnPlateau reducing learning rate to 0.0005000000237487257.\n",
      "34/34 [==============================] - 36s 1s/step - loss: 0.1115 - categorical_accuracy: 0.9744 - val_loss: 0.2756 - val_categorical_accuracy: 0.8700 - lr: 0.0010\n",
      "Epoch 11/20\n",
      "34/34 [==============================] - ETA: 0s - loss: 0.0964 - categorical_accuracy: 0.9789\n",
      "Epoch 00011: saving model to model_init_2022-01-1914_52_50.134304\\model5-00011-0.09645-0.97888-0.15025-0.92000.h5\n",
      "34/34 [==============================] - 37s 1s/step - loss: 0.0964 - categorical_accuracy: 0.9789 - val_loss: 0.1503 - val_categorical_accuracy: 0.9200 - lr: 5.0000e-04\n",
      "Epoch 12/20\n",
      "34/34 [==============================] - ETA: 0s - loss: 0.0780 - categorical_accuracy: 0.9849\n",
      "Epoch 00012: saving model to model_init_2022-01-1914_52_50.134304\\model5-00012-0.07800-0.98492-0.16198-0.94000.h5\n",
      "34/34 [==============================] - 36s 1s/step - loss: 0.0780 - categorical_accuracy: 0.9849 - val_loss: 0.1620 - val_categorical_accuracy: 0.9400 - lr: 5.0000e-04\n",
      "Epoch 13/20\n",
      "34/34 [==============================] - ETA: 0s - loss: 0.0530 - categorical_accuracy: 0.9925\n",
      "Epoch 00013: saving model to model_init_2022-01-1914_52_50.134304\\model5-00013-0.05303-0.99246-0.22283-0.92000.h5\n",
      "\n",
      "Epoch 00013: ReduceLROnPlateau reducing learning rate to 0.0002500000118743628.\n",
      "34/34 [==============================] - 37s 1s/step - loss: 0.0530 - categorical_accuracy: 0.9925 - val_loss: 0.2228 - val_categorical_accuracy: 0.9200 - lr: 5.0000e-04\n",
      "Epoch 14/20\n",
      "34/34 [==============================] - ETA: 0s - loss: 0.0476 - categorical_accuracy: 0.9955\n",
      "Epoch 00014: saving model to model_init_2022-01-1914_52_50.134304\\model5-00014-0.04762-0.99548-0.19755-0.93000.h5\n",
      "34/34 [==============================] - 37s 1s/step - loss: 0.0476 - categorical_accuracy: 0.9955 - val_loss: 0.1975 - val_categorical_accuracy: 0.9300 - lr: 2.5000e-04\n",
      "Epoch 15/20\n",
      "34/34 [==============================] - ETA: 0s - loss: 0.0589 - categorical_accuracy: 0.9819\n",
      "Epoch 00015: saving model to model_init_2022-01-1914_52_50.134304\\model5-00015-0.05892-0.98190-0.21483-0.93000.h5\n",
      "\n",
      "Epoch 00015: ReduceLROnPlateau reducing learning rate to 0.0001250000059371814.\n",
      "34/34 [==============================] - 37s 1s/step - loss: 0.0589 - categorical_accuracy: 0.9819 - val_loss: 0.2148 - val_categorical_accuracy: 0.9300 - lr: 2.5000e-04\n",
      "Epoch 16/20\n",
      "34/34 [==============================] - ETA: 0s - loss: 0.0462 - categorical_accuracy: 0.9940\n",
      "Epoch 00016: saving model to model_init_2022-01-1914_52_50.134304\\model5-00016-0.04623-0.99397-0.15153-0.94000.h5\n",
      "34/34 [==============================] - 37s 1s/step - loss: 0.0462 - categorical_accuracy: 0.9940 - val_loss: 0.1515 - val_categorical_accuracy: 0.9400 - lr: 1.2500e-04\n",
      "Epoch 17/20\n",
      "34/34 [==============================] - ETA: 0s - loss: 0.0418 - categorical_accuracy: 0.9910\n",
      "Epoch 00017: saving model to model_init_2022-01-1914_52_50.134304\\model5-00017-0.04181-0.99095-0.17805-0.94000.h5\n",
      "\n",
      "Epoch 00017: ReduceLROnPlateau reducing learning rate to 6.25000029685907e-05.\n",
      "34/34 [==============================] - 37s 1s/step - loss: 0.0418 - categorical_accuracy: 0.9910 - val_loss: 0.1781 - val_categorical_accuracy: 0.9400 - lr: 1.2500e-04\n",
      "Epoch 18/20\n",
      "34/34 [==============================] - ETA: 0s - loss: 0.0504 - categorical_accuracy: 0.9879\n",
      "Epoch 00018: saving model to model_init_2022-01-1914_52_50.134304\\model5-00018-0.05044-0.98793-0.15097-0.96000.h5\n",
      "34/34 [==============================] - 37s 1s/step - loss: 0.0504 - categorical_accuracy: 0.9879 - val_loss: 0.1510 - val_categorical_accuracy: 0.9600 - lr: 6.2500e-05\n",
      "Epoch 19/20\n",
      "34/34 [==============================] - ETA: 0s - loss: 0.0379 - categorical_accuracy: 0.9894\n",
      "Epoch 00019: saving model to model_init_2022-01-1914_52_50.134304\\model5-00019-0.03786-0.98944-0.15964-0.95000.h5\n",
      "\n",
      "Epoch 00019: ReduceLROnPlateau reducing learning rate to 3.125000148429535e-05.\n",
      "34/34 [==============================] - 37s 1s/step - loss: 0.0379 - categorical_accuracy: 0.9894 - val_loss: 0.1596 - val_categorical_accuracy: 0.9500 - lr: 6.2500e-05\n",
      "Epoch 20/20\n",
      "34/34 [==============================] - ETA: 0s - loss: 0.0331 - categorical_accuracy: 0.9955\n",
      "Epoch 00020: saving model to model_init_2022-01-1914_52_50.134304\\model5-00020-0.03312-0.99548-0.13386-0.96000.h5\n",
      "34/34 [==============================] - 37s 1s/step - loss: 0.0331 - categorical_accuracy: 0.9955 - val_loss: 0.1339 - val_categorical_accuracy: 0.9600 - lr: 3.1250e-05\n"
     ]
    }
   ],
   "source": [
    "history5 = model5.fit_generator(train_generator, steps_per_epoch=steps_per_epoch, epochs=20, verbose=1, \n",
    "                    callbacks=callbacks_list, validation_data=val_generator, \n",
    "                    validation_steps=validation_steps, class_weight=None, workers=1, initial_epoch=0)"
   ]
  },
  {
   "cell_type": "code",
   "execution_count": 42,
   "metadata": {
    "colab": {
     "base_uri": "https://localhost:8080/",
     "height": 499
    },
    "id": "KHNzYDctElrb",
    "outputId": "c3a889c2-36fd-41b4-856d-b7e4f5104063"
   },
   "outputs": [
    {
     "data": {
      "image/png": "[encoded data removed]",
      "text/plain": [
       "<Figure size 576x576 with 2 Axes>"
      ]
     },
     "metadata": {
      "needs_background": "light"
     },
     "output_type": "display_data"
    }
   ],
   "source": [
    "acc = history5.history['categorical_accuracy']\n",
    "val_acc = history5.history['val_categorical_accuracy']\n",
    "\n",
    "loss = history5.history['loss']\n",
    "val_loss = history5.history['val_loss']\n",
    "\n",
    "epochs_range = range(20)\n",
    "\n",
    "plt.figure(figsize=(8, 8))\n",
    "plt.subplot(1, 2, 1)\n",
    "plt.plot(epochs_range, acc, label='Training Accuracy')\n",
    "plt.plot(epochs_range, val_acc, label='Validation Accuracy')\n",
    "plt.legend(loc='lower right')\n",
    "plt.title('Training and Validation Accuracy')\n",
    "\n",
    "plt.subplot(1, 2, 2)\n",
    "plt.plot(epochs_range, loss, label='Training Loss')\n",
    "plt.plot(epochs_range, val_loss, label='Validation Loss')\n",
    "plt.legend(loc='upper right')\n",
    "plt.title('Training and Validation Loss')\n",
    "plt.show()\t"
   ]
  },
  {
   "cell_type": "markdown",
   "metadata": {
    "id": "YJh0hgENXWCY"
   },
   "source": [
    "### This is the final Model with below metrics. Peformance is good on both Training and Validation data set\n",
    "- Training loss: 0.0331\n",
    "- categorical_accuracy: 0.9955\n",
    "- val_loss: 0.1339\n",
    "- val_categorical_accuracy: 0.9600\n",
    "\n",
    "## hence, This is the Final Model."
   ]
  },
  {
   "cell_type": "code",
   "execution_count": null,
   "metadata": {
    "id": "TDuawL2PeScj"
   },
   "outputs": [],
   "source": []
  }
 ],
 "metadata": {
  "accelerator": "GPU",
  "colab": {
   "name": "Gesture_Recognition_Code.ipynb",
   "provenance": []
  },
  "kernelspec": {
   "display_name": "Python 3",
   "language": "python",
   "name": "python3"
  },
  "language_info": {
   "codemirror_mode": {
    "name": "ipython",
    "version": 3
   },
   "file_extension": ".py",
   "mimetype": "text/x-python",
   "name": "python",
   "nbconvert_exporter": "python",
   "pygments_lexer": "ipython3",
   "version": "3.8.5"
  }
 },
 "nbformat": 4,
 "nbformat_minor": 1
}
